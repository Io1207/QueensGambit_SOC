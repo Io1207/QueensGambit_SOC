{
 "cells": [
  {
   "cell_type": "code",
   "execution_count": 1,
   "id": "45701d06-3900-42e5-956d-c07dd4d3454e",
   "metadata": {},
   "outputs": [],
   "source": [
    "#ignore\n",
    "import chess #type: ignore"
   ]
  },
  {
   "cell_type": "code",
   "execution_count": 2,
   "id": "2747dcd4",
   "metadata": {},
   "outputs": [],
   "source": [
    "def alphaBetaPrune(board,alpha,beta,depth,maximiser=True):\n",
    "\n",
    "    if board.is_stalemate():\n",
    "        return (0,[])\n",
    "\n",
    "    if board.is_checkmate():\n",
    "        if board.turn == maximiser:\n",
    "            return (100000,[])\n",
    "        else:\n",
    "            return (-100000,[])\n",
    "    \n",
    "    \n",
    "    if depth==0:\n",
    "        piecePos=board.piece_map()\n",
    "        points={'p':1,'k':100,'b':3,'n':3,'r':5,'q':9}\n",
    "        pieceCount={}\n",
    "        possPieces=['k','q','r','n','b','p']\n",
    "        matAdv=0\n",
    "\n",
    "        for key in piecePos:\n",
    "            pieceCount[str(piecePos[key])]= 1+pieceCount[str(piecePos[key])]\n",
    "\n",
    "        for piece in possPieces:\n",
    "            matAdv=matAdv + (pieceCount[piece.upper()] - pieceCount[piece]) * points[piece]\n",
    "        return matAdv,[]\n",
    "    \n",
    "    if maximiser:\n",
    "        for move in board.legal_moves:\n",
    "            next=board.copy()\n",
    "            next.push(move)\n",
    "            val,nmov=alphaBetaPrune(next,alpha,beta,depth-1,False)"
   ]
  },
  {
   "cell_type": "code",
   "execution_count": 3,
   "id": "ddf6833f-0039-49c2-8685-a5f837549a36",
   "metadata": {},
   "outputs": [
    {
     "ename": "TypeError",
     "evalue": "cannot unpack non-iterable NoneType object",
     "output_type": "error",
     "traceback": [
      "\u001b[1;31m---------------------------------------------------------------------------\u001b[0m",
      "\u001b[1;31mTypeError\u001b[0m                                 Traceback (most recent call last)",
      "Cell \u001b[1;32mIn[3], line 3\u001b[0m\n\u001b[0;32m      1\u001b[0m fen\u001b[38;5;241m=\u001b[39m\u001b[38;5;124m\"\u001b[39m\u001b[38;5;124mr1bq2r1/b4pk1/p1pp1p2/1p2pP2/1P2P1PB/3P4/1PPQ2P1/R3K2R w\u001b[39m\u001b[38;5;124m\"\u001b[39m\n\u001b[0;32m      2\u001b[0m board \u001b[38;5;241m=\u001b[39m chess\u001b[38;5;241m.\u001b[39mBoard(fen)\n\u001b[1;32m----> 3\u001b[0m result \u001b[38;5;241m=\u001b[39m \u001b[43malphaBetaPrune\u001b[49m\u001b[43m(\u001b[49m\u001b[43mboard\u001b[49m\u001b[43m,\u001b[49m\u001b[43m \u001b[49m\u001b[38;5;241;43m-\u001b[39;49m\u001b[38;5;241;43m1000000\u001b[39;49m\u001b[43m,\u001b[49m\u001b[43m \u001b[49m\u001b[38;5;241;43m1000000\u001b[39;49m\u001b[43m,\u001b[49m\u001b[43m \u001b[49m\u001b[38;5;241;43m3\u001b[39;49m\u001b[43m,\u001b[49m\u001b[43m \u001b[49m\u001b[38;5;28;43;01mTrue\u001b[39;49;00m\u001b[43m)\u001b[49m\n\u001b[0;32m      4\u001b[0m \u001b[38;5;28;01mfor\u001b[39;00m move \u001b[38;5;129;01min\u001b[39;00m result[\u001b[38;5;241m1\u001b[39m]:\n\u001b[0;32m      5\u001b[0m     \u001b[38;5;28mprint\u001b[39m(board\u001b[38;5;241m.\u001b[39msan(move), end\u001b[38;5;241m=\u001b[39m\u001b[38;5;124m'\u001b[39m\u001b[38;5;124m \u001b[39m\u001b[38;5;124m'\u001b[39m)\n",
      "Cell \u001b[1;32mIn[2], line 31\u001b[0m, in \u001b[0;36malphaBetaPrune\u001b[1;34m(board, alpha, beta, depth, maximiser)\u001b[0m\n\u001b[0;32m     29\u001b[0m \u001b[38;5;28mnext\u001b[39m\u001b[38;5;241m=\u001b[39mboard\u001b[38;5;241m.\u001b[39mcopy()\n\u001b[0;32m     30\u001b[0m \u001b[38;5;28mnext\u001b[39m\u001b[38;5;241m.\u001b[39mpush(move)\n\u001b[1;32m---> 31\u001b[0m val,nmov\u001b[38;5;241m=\u001b[39malphaBetaPrune(\u001b[38;5;28mnext\u001b[39m,alpha,beta,depth\u001b[38;5;241m-\u001b[39m\u001b[38;5;241m1\u001b[39m,\u001b[38;5;28;01mFalse\u001b[39;00m)\n",
      "\u001b[1;31mTypeError\u001b[0m: cannot unpack non-iterable NoneType object"
     ]
    }
   ],
   "source": [
    "fen=\"r1bq2r1/b4pk1/p1pp1p2/1p2pP2/1P2P1PB/3P4/1PPQ2P1/R3K2R w\"\n",
    "board = chess.Board(fen)\n",
    "result = alphaBetaPrune(board, -1000000, 1000000, 3, True)\n",
    "for move in result[1]:\n",
    "    print(board.san(move), end=' ')\n",
    "#for move in result[1]:\n",
    "#   print(board.san())\n",
    "\n",
    "#I manually checked the results for a few cases "
   ]
  },
  {
   "cell_type": "code",
   "execution_count": null,
   "id": "055331c3",
   "metadata": {},
   "outputs": [],
   "source": []
  }
 ],
 "metadata": {
  "kernelspec": {
   "display_name": "Python 3 (ipykernel)",
   "language": "python",
   "name": "python3"
  },
  "language_info": {
   "codemirror_mode": {
    "name": "ipython",
    "version": 3
   },
   "file_extension": ".py",
   "mimetype": "text/x-python",
   "name": "python",
   "nbconvert_exporter": "python",
   "pygments_lexer": "ipython3",
   "version": "3.11.7"
  }
 },
 "nbformat": 4,
 "nbformat_minor": 5
}
