{
 "cells": [
  {
   "cell_type": "code",
   "execution_count": 1,
   "id": "45701d06-3900-42e5-956d-c07dd4d3454e",
   "metadata": {},
   "outputs": [],
   "source": [
    "import chess"
   ]
  },
  {
   "cell_type": "code",
   "execution_count": 2,
   "id": "063722f2-8398-432f-96cb-5263cb9f68c1",
   "metadata": {},
   "outputs": [],
   "source": [
    "def alpha_beta_pruning(curr, alpha, beta, depth, max_player=True):\n",
    "    if curr.is_checkmate():\n",
    "        if curr.turn == max_player:\n",
    "            return (1000000, list())\n",
    "        else:\n",
    "            return (-1000000, list())\n",
    "    if curr.is_stalemate():\n",
    "        return 0, []\n",
    "    if depth == 0:\n",
    "        map = curr.piece_map()\n",
    "        ref = {'p': 1, 'n': 3, 'b': 3, 'r': 5, 'q': 9, 'k': 100}\n",
    "        count = dict()\n",
    "        pieces = ['k', 'q', 'r', 'b', 'n', 'p']\n",
    "        for piece in pieces:\n",
    "            count[piece] = 0\n",
    "            count[piece.upper()] = 0\n",
    "        score = 0\n",
    "        for key in map:\n",
    "            count[str(map[key])] += 1\n",
    "        for piece in pieces:\n",
    "            score += (count[piece.upper()] - count[piece]) * ref[piece]\n",
    "        return (score, list())\n",
    "    # if curr.fen() == '4rr1k/7b/5K1R/R7/8/8/8/8 w - - 2 2':\n",
    "    #     print('here')\n",
    "    if max_player:\n",
    "        max_eval = -1000000\n",
    "        best_move = []\n",
    "        for move in curr.legal_moves:\n",
    "            new = curr.copy()\n",
    "            new.push(move)\n",
    "            eval, cmove = alpha_beta_pruning(new, alpha, beta, depth - 1, False)\n",
    "            # print(new.fen(), eval, cmove, depth, alpha, beta)\n",
    "            max_eval = max(max_eval, eval)\n",
    "            if max_eval == eval:\n",
    "                best_move = [move, ] + cmove \n",
    "            alpha = max(alpha, eval)\n",
    "            if beta <= alpha:\n",
    "                break\n",
    "        return max_eval, best_move\n",
    "    else:\n",
    "        min_eval = 1000000\n",
    "        best_move = []\n",
    "        for move in curr.legal_moves:\n",
    "            new = curr.copy()\n",
    "            new.push(move)\n",
    "            eval, cmove = alpha_beta_pruning(new, alpha, beta, depth - 1, True)\n",
    "            # print(new.fen(), eval, cmove, depth, alpha, beta)\n",
    "            min_eval = min(min_eval, eval)\n",
    "            if min_eval == eval:\n",
    "                # print(cmove)\n",
    "                best_move = [move, ] + cmove\n",
    "            beta = min(beta, eval)\n",
    "            if beta <= alpha:\n",
    "                break\n",
    "        return min_eval, best_move"
   ]
  },
  {
   "cell_type": "code",
   "execution_count": 4,
   "id": "ddf6833f-0039-49c2-8685-a5f837549a36",
   "metadata": {},
   "outputs": [
    {
     "name": "stdout",
     "output_type": "stream",
     "text": [
      "Rxa3+ Kxa3 Ra5+ "
     ]
    }
   ],
   "source": [
    "fen=\"8/1r6/8/3R4/k7/p1K5/4r3/R7 w - - 0 1\"\n",
    "board = chess.Board(fen)\n",
    "result = alpha_beta_pruning(board, -1000000, 1000000, 3, True)\n",
    "for move in result[1]:\n",
    "    print(board.san(move), end=' ')\n",
    "#for move in result[1]:\n",
    "#   print(board.san())\n",
    "\n",
    "#I manually checked the results for around 40-47 cases (it was 2am, I wasn't able to count clearly)"
   ]
  }
 ],
 "metadata": {
  "kernelspec": {
   "display_name": "Python 3 (ipykernel)",
   "language": "python",
   "name": "python3"
  },
  "language_info": {
   "codemirror_mode": {
    "name": "ipython",
    "version": 3
   },
   "file_extension": ".py",
   "mimetype": "text/x-python",
   "name": "python",
   "nbconvert_exporter": "python",
   "pygments_lexer": "ipython3",
   "version": "3.11.7"
  }
 },
 "nbformat": 4,
 "nbformat_minor": 5
}
